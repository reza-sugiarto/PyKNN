{
 "cells": [
  {
   "cell_type": "code",
   "execution_count": 1,
   "metadata": {},
   "outputs": [],
   "source": [
    "import pandas as pd\n",
    "from sklearn.model_selection import train_test_split\n",
    "from sklearn.datasets import load_iris\n",
    "from sklearn.neighbors import KNeighborsClassifier"
   ]
  },
  {
   "cell_type": "code",
   "execution_count": 2,
   "metadata": {},
   "outputs": [],
   "source": [
    "iris_data = load_iris(return_X_y=False)"
   ]
  },
  {
   "cell_type": "code",
   "execution_count": 3,
   "metadata": {},
   "outputs": [],
   "source": [
    "data=pd.DataFrame(iris_data.data,columns=iris_data.feature_names)"
   ]
  },
  {
   "cell_type": "code",
   "execution_count": 4,
   "metadata": {},
   "outputs": [],
   "source": [
    "target=pd.DataFrame(iris_data.target)"
   ]
  },
  {
   "cell_type": "code",
   "execution_count": 5,
   "metadata": {},
   "outputs": [],
   "source": [
    "X_train,X_test,y_train,y_test=train_test_split(data,target,test_size=0.5,random_state=0)"
   ]
  },
  {
   "cell_type": "markdown",
   "metadata": {},
   "source": [
    "### Calculate Distance (using Euclidean)"
   ]
  },
  {
   "cell_type": "code",
   "execution_count": 6,
   "metadata": {},
   "outputs": [],
   "source": [
    "from math import sqrt,pow #using this library because it faster than plain calculation or numpy(?)\n",
    "def euclid_dist(data_ts,data_tr):\n",
    "    dist=0\n",
    "    for i in range(len(data_tr)):\n",
    "        dist+=pow((data_ts[i]-data_tr[i]),2)\n",
    "    return sqrt(dist)"
   ]
  },
  {
   "cell_type": "markdown",
   "metadata": {},
   "source": [
    "### Cell below shows which faster"
   ]
  },
  {
   "cell_type": "markdown",
   "metadata": {},
   "source": [
    "import timeit\n",
    "timer_np=timeit.Timer(setup=\"\"\"\n",
    "from math import sqrt,pow\n",
    "import numpy as np\n",
    "def euclid_dist(data_ts,data_tr):\n",
    "    dist=0\n",
    "    for i in range(len(data_tr)):\n",
    "        dist+=pow((data_ts[i]-data_tr[i]),2)\n",
    "    return np.sqrt(dist)\n",
    "\"\"\",stmt=\"euclid_dist([1,2,3,4,5,6,7,8,9,10],[5,6,4,3,6,1,4,5,7,1])\"\n",
    ")\n",
    "\n",
    "timer=timeit.Timer(setup=\"\"\"\n",
    "from math import sqrt,pow\n",
    "def euclid_dist(data_ts,data_tr):\n",
    "    dist=0\n",
    "    for i in range(len(data_tr)):\n",
    "        dist+=pow((data_ts[i]-data_tr[i]),2)\n",
    "    return sqrt(dist)\n",
    "\"\"\",stmt=\"euclid_dist([1,2,3,4,5,6,7,8,9,10],[5,6,4,3,6,1,4,5,7,1])\"\n",
    ")\n",
    "\n",
    "timer_p=timeit.Timer(setup=\"\"\"\n",
    "from math import sqrt,pow\n",
    "def euclid_dist(data_ts,data_tr):\n",
    "    dist=0\n",
    "    for i in range(len(data_tr)):\n",
    "        dist+=(data_ts[i]-data_tr[i])**2\n",
    "    return (dist)**0.5\n",
    "\"\"\",stmt=\"euclid_dist([1,2,3,4,5,6,7,8,9,10],[5,6,4,3,6,1,4,5,7,1])\"\n",
    ")\n",
    "\n",
    "timer_np.timeit(number=1000000),timer_p.timeit(number=1000000),timer.timeit(number=1000000)"
   ]
  },
  {
   "cell_type": "markdown",
   "metadata": {},
   "source": [
    "### Check Neighbors"
   ]
  },
  {
   "cell_type": "code",
   "execution_count": 7,
   "metadata": {},
   "outputs": [],
   "source": [
    "#check single point\n",
    "def check_neighbors_class(data_train,data_test,label_train,n):\n",
    "    import operator\n",
    "    from collections import Counter\n",
    "    check_dist={}\n",
    "    for i in range(X_train.shape[0]):\n",
    "        dist=euclid_dist(data_train.iloc[i],data_test)\n",
    "        ground_label=y_train.iloc[i][0]\n",
    "        #ground_label=label_train.iloc[i]\n",
    "        check_dist.update({dist:ground_label})\n",
    "    check_dist=sorted(check_dist.items(),key=operator.itemgetter(0))\n",
    "    check_class=[]\n",
    "    for i in range(n):\n",
    "        temp_class=check_dist[i][1]\n",
    "        check_class.append(temp_class)\n",
    "    c=Counter(check_class)\n",
    "    return c.most_common(1)[0][0]"
   ]
  },
  {
   "cell_type": "code",
   "execution_count": 8,
   "metadata": {},
   "outputs": [],
   "source": [
    "def pred_accuracy(pred,truth):\n",
    "    acc=0\n",
    "    chck=truth.values.flatten()\n",
    "    for i in range(len(pred)):\n",
    "        if pred[i]==chck[i]:\n",
    "            acc+=1\n",
    "        else:\n",
    "            pass\n",
    "    return acc/len(pred)"
   ]
  },
  {
   "cell_type": "code",
   "execution_count": 9,
   "metadata": {},
   "outputs": [],
   "source": [
    "pred=[]\n",
    "for i in range(X_train.shape[0]):\n",
    "    data=X_test.iloc[i]\n",
    "    temp=check_neighbors_class(X_train,data,y_train,5)\n",
    "    pred.append(temp)"
   ]
  },
  {
   "cell_type": "code",
   "execution_count": 10,
   "metadata": {},
   "outputs": [
    {
     "data": {
      "text/plain": [
       "0.96"
      ]
     },
     "execution_count": 10,
     "metadata": {},
     "output_type": "execute_result"
    }
   ],
   "source": [
    "pred_accuracy(pred,y_test)"
   ]
  },
  {
   "cell_type": "markdown",
   "metadata": {},
   "source": [
    "### Compare to Sklearn result"
   ]
  },
  {
   "cell_type": "code",
   "execution_count": 11,
   "metadata": {},
   "outputs": [
    {
     "name": "stderr",
     "output_type": "stream",
     "text": [
      "C:\\Users\\reza.sugiarto\\AppData\\Local\\Continuum\\anaconda3\\lib\\site-packages\\ipykernel_launcher.py:2: DataConversionWarning: A column-vector y was passed when a 1d array was expected. Please change the shape of y to (n_samples, ), for example using ravel().\n",
      "  \n"
     ]
    },
    {
     "data": {
      "text/plain": [
       "KNeighborsClassifier(algorithm='auto', leaf_size=30, metric='minkowski',\n",
       "           metric_params=None, n_jobs=None, n_neighbors=5, p=2,\n",
       "           weights='uniform')"
      ]
     },
     "execution_count": 11,
     "metadata": {},
     "output_type": "execute_result"
    }
   ],
   "source": [
    "neigh = KNeighborsClassifier(n_neighbors=5)\n",
    "neigh.fit(X_train,y_train)"
   ]
  },
  {
   "cell_type": "code",
   "execution_count": 12,
   "metadata": {},
   "outputs": [],
   "source": [
    "sk_pred=neigh.predict(X_test)"
   ]
  },
  {
   "cell_type": "code",
   "execution_count": 13,
   "metadata": {},
   "outputs": [
    {
     "data": {
      "text/plain": [
       "0.96"
      ]
     },
     "execution_count": 13,
     "metadata": {},
     "output_type": "execute_result"
    }
   ],
   "source": [
    "pred_accuracy(sk_pred,y_test)"
   ]
  }
 ],
 "metadata": {
  "kernelspec": {
   "display_name": "Python 3",
   "language": "python",
   "name": "python3"
  },
  "language_info": {
   "codemirror_mode": {
    "name": "ipython",
    "version": 3
   },
   "file_extension": ".py",
   "mimetype": "text/x-python",
   "name": "python",
   "nbconvert_exporter": "python",
   "pygments_lexer": "ipython3",
   "version": "3.6.8"
  }
 },
 "nbformat": 4,
 "nbformat_minor": 2
}
